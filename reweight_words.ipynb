{
 "cells": [
  {
   "cell_type": "code",
   "execution_count": 1,
   "metadata": {},
   "outputs": [],
   "source": [
    "import os\n",
    "import textract\n",
    "import re\n",
    "import pandas as pd\n",
    "import nltk\n",
    "from nltk.tokenize import word_tokenize\n",
    "en_stop = set(nltk.corpus.stopwords.words('english'))\n",
    "from sklearn.feature_extraction.text import TfidfVectorizer\n",
    "from sklearn.metrics.pairwise import linear_kernel\n",
    "from sklearn.metrics.pairwise import cosine_similarity\n",
    "from sklearn.preprocessing import normalize\n",
    "from sklearn.manifold import TSNE\n",
    "from sklearn.decomposition import TruncatedSVD\n",
    "import matplotlib.pyplot as plt\n",
    "from collections import Counter\n",
    "from collections import defaultdict"
   ]
  },
  {
   "cell_type": "code",
   "execution_count": 2,
   "metadata": {},
   "outputs": [],
   "source": [
    "resume_path = '/Users/Ketki/Documents/MS Theses/Reference Papers and Data/Selected/'\n",
    "reference = '/Users/Ketki/Documents/MS Theses/Candidate list.xlsx'\n",
    "jd_path = '/Users/Ketki/Documents/MS Theses/Reference Papers and Data/JD/'\n",
    "fig_path = '/Users/Ketki/Documents/MS Theses/Reference Papers and Data/Fig/'"
   ]
  },
  {
   "cell_type": "code",
   "execution_count": 3,
   "metadata": {},
   "outputs": [],
   "source": [
    "def preprocessText(text, textEncoding = 'windows-1252'):\n",
    "    text = re.sub(r'[^\\x20-\\x7e]',r' ', text.decode(encoding = textEncoding))\n",
    "    return text"
   ]
  },
  {
   "cell_type": "code",
   "execution_count": 4,
   "metadata": {},
   "outputs": [],
   "source": [
    "def getResumeReference(referencePath):\n",
    "    refDataFrame = pd.read_excel(reference)\n",
    "    return refDataFrame"
   ]
  },
  {
   "cell_type": "code",
   "execution_count": 5,
   "metadata": {},
   "outputs": [],
   "source": [
    "def getResumeDataFrame(resumePath):\n",
    "    resume_list = []\n",
    "    r_file_list = []\n",
    "    \n",
    "    for file in os.listdir(resume_path):\n",
    "        if file == '.DS_Store':\n",
    "            continue\n",
    "            \n",
    "        filename = resume_path + file\n",
    "        #print(filename)\n",
    "        r_file_list.append(file)\n",
    "        \n",
    "        try:\n",
    "            text = textract.process(filename)\n",
    "            text = preprocessText(text, 'utf-8')\n",
    "            resume_list.append(text)\n",
    "        except Exception as se:\n",
    "            print('{} -> {}'.format(file, se))\n",
    "            \n",
    "    resumeDataFrame = pd.DataFrame(list(zip(r_file_list,resume_list)), \\\n",
    "                             columns = ['res_name','res_contents'])\n",
    "    refDataFrame = getResumeReference(reference)\n",
    "    \n",
    "    resumeDataFrame = resumeDataFrame.join(refDataFrame.set_index('res_name'),\\\n",
    "                                           on = 'res_name')\n",
    "    \n",
    "    return resumeDataFrame"
   ]
  },
  {
   "cell_type": "code",
   "execution_count": 6,
   "metadata": {},
   "outputs": [],
   "source": [
    "def getJobNationality(jobFile):\n",
    "    reNation = re.search('jd_([a-z]*)[0-9]*.*', jobFile, re.IGNORECASE)\n",
    "    if reNation:\n",
    "        nationality = reNation.group(1)\n",
    "    else:\n",
    "        raise 'Unknown JD Nationality'\n",
    "        \n",
    "    return nationality"
   ]
  },
  {
   "cell_type": "code",
   "execution_count": 7,
   "metadata": {},
   "outputs": [],
   "source": [
    "def getJobDescription(jobFile, JDname):\n",
    "    jobTitle = 'input'\n",
    "    jobName = 'JDname'\n",
    "    nationality = getJobNationality(jobFile)\n",
    "    jobText = textract.process(jobFile)\n",
    "    jobText = preprocessText(jobText, 'utf-8')\n",
    "    return {'res_name': jobTitle, \n",
    "            'res_contents': jobText, \n",
    "            'name': jobName, \n",
    "            'nationality':  nationality}"
   ]
  },
  {
   "cell_type": "code",
   "execution_count": 8,
   "metadata": {},
   "outputs": [],
   "source": [
    "def TFIDF(processDataFrame, ratioDf):\n",
    "\n",
    "    tfidf = TfidfVectorizer(stop_words = 'english', lowercase = True)\n",
    "    tfidfMatrix = tfidf.fit_transform(processDataFrame['res_contents'])\n",
    "\n",
    "    # Normalize the tf-idf vectors\n",
    "    tfidfMatrix = normalize(tfidfMatrix)\n",
    "    \n",
    "    # get tfidf value for each word in a dataframe\n",
    "    feature = tfidf.get_feature_names()\n",
    "#    index_value = {i[1]:i[0] for i in tfidf.vocabulary_.items()}\n",
    "    matrixDf = pd.DataFrame(tfidfMatrix.toarray(), columns = feature)\n",
    "    \n",
    "    # multiply with computed p ratio\n",
    "    for i in range(len(ratioDf)):\n",
    "        try:\n",
    "            temp = ratioDf['words'].iloc[i]\n",
    "            matrixDf[temp] = matrixDf[temp]*ratioDf['pRatio'].iloc[i]\n",
    "        except (KeyError):\n",
    "            pass\n",
    "    \n",
    "    cosine_sim = linear_kernel(matrixDf, matrixDf)\n",
    "    indices = pd.Series(processDataFrame.index, \\\n",
    "                        index=processDataFrame['res_name']).drop_duplicates()\n",
    "\n",
    "    idx = indices['input']\n",
    "\n",
    "    sim_scores = list(enumerate(cosine_sim[idx]))\n",
    "    sim_scores = sorted(sim_scores, key=lambda x: x[1], reverse=True)\n",
    "    sim_scores = sim_scores[1:11]\n",
    "\n",
    "    resume_indices = [i[0] for i in sim_scores]\n",
    "    selectedResumes = processDataFrame.iloc[resume_indices]\n",
    "    \n",
    "    return (matrixDf, selectedResumes, sim_scores)"
   ]
  },
  {
   "cell_type": "code",
   "execution_count": 9,
   "metadata": {},
   "outputs": [],
   "source": [
    "def getTSNE(matrixDf):\n",
    "    k = 30\n",
    "    svd_matrix = TruncatedSVD(n_components = k, \\\n",
    "                              random_state = 0).fit_transform(matrixDf)\n",
    "\n",
    "\n",
    "    t_sne = TSNE(perplexity = 12, \\\n",
    "                 verbose = 0, \\\n",
    "                 learning_rate = 200).fit_transform(svd_matrix)\n",
    "    return t_sne"
   ]
  },
  {
   "cell_type": "code",
   "execution_count": 10,
   "metadata": {},
   "outputs": [],
   "source": [
    "def plot(processDataFrame, t_sne, JDname,fig_path):\n",
    "    fig = plt.figure(figsize = (10,10))\n",
    "    plotData = {}\n",
    "    for i in range(0, t_sne.shape[0]):\n",
    "        if processDataFrame['res_name'][i] == 'input':\n",
    "\n",
    "            pass\n",
    "        elif processDataFrame['nationality'][i] == 'India':\n",
    "            if 'India' in plotData:\n",
    "                plotData['India']['X'].append(t_sne[i,0])\n",
    "                plotData['India']['Y'].append(t_sne[i,1])\n",
    "            else:\n",
    "                plotData['India'] = {}\n",
    "                plotData['India']['X'] = list([t_sne[i,0]])\n",
    "                plotData['India']['Y'] = list([t_sne[i,1]])\n",
    "        elif processDataFrame['nationality'][i] == 'Malaysia':\n",
    "            if 'Malaysia' in plotData:\n",
    "                plotData['Malaysia']['X'].append(t_sne[i,0])\n",
    "                plotData['Malaysia']['Y'].append(t_sne[i,1])\n",
    "            else:\n",
    "                plotData['Malaysia'] = {}\n",
    "                plotData['Malaysia']['X'] = list([t_sne[i,0]])\n",
    "                plotData['Malaysia']['Y'] = list([t_sne[i,1]])\n",
    "        elif processDataFrame['nationality'][i] == 'China':    \n",
    "            if 'China' in plotData:\n",
    "                plotData['China']['X'].append(t_sne[i,0])\n",
    "                plotData['China']['Y'].append(t_sne[i,1])\n",
    "            else:\n",
    "                plotData['China'] = {}\n",
    "                plotData['China']['X'] = list([t_sne[i,0]])\n",
    "                plotData['China']['Y'] = list([t_sne[i,1]])\n",
    "    \n",
    "    \n",
    "    for key in plotData.keys():\n",
    "        if key == 'India':\n",
    "            slabel = 'resume : India'\n",
    "            sc = 'r'\n",
    "            sm = '+'\n",
    "        elif key == 'China':\n",
    "            slabel = 'resume : China'\n",
    "            sc = 'b'\n",
    "            sm = '*'\n",
    "        elif key == 'Malaysia':\n",
    "            slabel = 'resume : Malaysia'\n",
    "            sc = 'g'\n",
    "            sm = 'o'\n",
    "            \n",
    "        scatter = plt.scatter(plotData[key]['X'], plotData[key]['Y'], \\\n",
    "                              c = sc, marker = sm, \\\n",
    "                              label = slabel)\n",
    "\n",
    "    plt.legend()    \n",
    "    plt.grid()\n",
    "    plt.show()  \n",
    "    figName = fig_path + JDname + '_new.png'\n",
    "    plt.savefig(figName)\n"
   ]
  },
  {
   "cell_type": "code",
   "execution_count": 11,
   "metadata": {},
   "outputs": [],
   "source": [
    "def getNationalityDf(resumeDataFrame,countryName):\n",
    "    nDataFrame = resumeDataFrame.loc[lambda resumeDataFrame: resumeDataFrame['nationality'] == countryName]\n",
    "    nDataFrame = nDataFrame[['res_contents']]\n",
    "    nDataFrame = nDataFrame.reset_index(drop=True)\n",
    "    return nDataFrame"
   ]
  },
  {
   "cell_type": "code",
   "execution_count": 12,
   "metadata": {},
   "outputs": [],
   "source": [
    "def unique_words(text):\n",
    "    tokens_dict = {}\n",
    "    text = str(text)\n",
    "    tokens = word_tokenize(text)\n",
    "    tokens = [token for token in tokens if token not in en_stop]\n",
    "    tokens = [token.lower() for token in tokens if token.isalpha()]\n",
    "    tokens = [token for token in tokens if len(token) > 3]\n",
    "    for word in tokens:\n",
    "        if word in tokens_dict:\n",
    "            continue\n",
    "        else:\n",
    "            tokens_dict[word] = 1\n",
    "    return tokens_dict"
   ]
  },
  {
   "cell_type": "code",
   "execution_count": 13,
   "metadata": {},
   "outputs": [],
   "source": [
    "def getDocFreq(tokens_dict, length):\n",
    "    tokenDataFrame = pd.DataFrame.from_dict(tokens_dict, orient = 'index')\n",
    "    valuePDataFrame = tokenDataFrame.div(length)\n",
    "    return valuePDataFrame"
   ]
  },
  {
   "cell_type": "code",
   "execution_count": 14,
   "metadata": {},
   "outputs": [],
   "source": [
    "def getRatioPercent(concatDf):\n",
    "    concatDf = concatDf.fillna(0)\n",
    "    ratioP = (concatDf.min(axis=1)/concatDf.max(axis=1))\n",
    "    ratioDf = pd.DataFrame(ratioP)\n",
    "    ratioDf = ratioDf.reset_index()\n",
    "    ratioDf = ratioDf.rename(columns={'index':'words',0:'pRatio'})\n",
    "    return ratioDf"
   ]
  },
  {
   "cell_type": "code",
   "execution_count": 15,
   "metadata": {},
   "outputs": [],
   "source": [
    "distributionMatrix = {}\n",
    "def processData(resume_path,jobFile, JDname):\n",
    "    dictionary = None\n",
    "    country = ['China','India','Malaysia']\n",
    "    concatDf = pd.DataFrame()\n",
    "    resumeDataFrame = getResumeDataFrame(resume_path)\n",
    "    jobDescription = getJobDescription(jobFile, JDname)\n",
    "    processDataFrame = resumeDataFrame.append(jobDescription, \\\n",
    "                                              ignore_index = True)\n",
    "    processDataFrame = processDataFrame.dropna()\n",
    "    \n",
    "    for c in country:\n",
    "        nDataFrame = getNationalityDf(resumeDataFrame, c)\n",
    "        length = len(nDataFrame)\n",
    "        for i in range(len(nDataFrame)):\n",
    "    #    print(nDataFrame['res_contents'][0])\n",
    "            dic = unique_words(nDataFrame['res_contents'][i])\n",
    "            if dictionary == None:\n",
    "                dictionary = dic\n",
    "            else:\n",
    "                for k in dic.keys():\n",
    "                    if k in dictionary:\n",
    "                        dictionary[k] += 1\n",
    "                    else:\n",
    "                        dictionary[k] = 1\n",
    "    #    tokensDict = getTokensDict(nDataFrame)\n",
    "        valuePDataFrame = getDocFreq(dictionary, length)\n",
    "        concatDf = concatDf.merge(valuePDataFrame, left_index = True, right_index = True, how= 'outer')\n",
    "        concatDf = concatDf.rename(columns={0:c})\n",
    "    \n",
    "    ratioDf = getRatioPercent(concatDf)\n",
    "    matrixDf, selectedResumes, sim_scores = TFIDF(processDataFrame,ratioDf)\n",
    "    print(selectedResumes)\n",
    "    print(sim_scores)\n",
    "    distribution = Counter(selectedResumes['nationality'])\n",
    "    #print(distribution)\n",
    "\n",
    "    jobNationality = jobDescription['nationality']\n",
    "    if jobNationality in distributionMatrix:\n",
    "        distributionMatrix[jobNationality]['total'] += 1\n",
    "        \n",
    "    else:\n",
    "        distributionMatrix[jobNationality] = defaultdict(int)\n",
    "        distributionMatrix[jobNationality]['total'] += 1\n",
    "    \n",
    "    for key in distribution.keys():\n",
    "        distributionMatrix[jobNationality][key] += distribution[key]\n",
    "    tsne = getTSNE(matrixDf)\n",
    "    plot(processDataFrame, tsne, JDname,fig_path)"
   ]
  },
  {
   "cell_type": "code",
   "execution_count": 16,
   "metadata": {},
   "outputs": [
    {
     "name": "stdout",
     "output_type": "stream",
     "text": [
      "/Users/Ketki/Documents/MS Theses/Reference Papers and Data/JD/jd_malaysia.docx\n",
      "                                      res_name  \\\n",
      "90               Equiom_Isaac Yim_Cosec AM.pdf   \n",
      "124                     RDM_Trevor Yang_FM.pdf   \n",
      "91       Mohn_Nisha Babusathiam_Cosec Lead.doc   \n",
      "83               Rodyk_Nelson Lee_Sr Cosec.pdf   \n",
      "131            HP_Adrian Hew_Acc Team Lead.pdf   \n",
      "7     iProperty_Chan Lai Lin_Sr Accountant.pdf   \n",
      "101     Xander_Ashish Shah_Finance Manager.doc   \n",
      "121           JTB_Chung Yon Jie_Accountant.pdf   \n",
      "107  Maybank_Anshul Sthapak_Legal Counsel.docx   \n",
      "67     Quality Mgmt_Nur Hawa_Admin Officer.pdf   \n",
      "\n",
      "                                          res_contents  \\\n",
      "90   Name: Yim Lok Kwan, Isaac (ACIS, ACS) Mobile: ...   \n",
      "124  Trevor Siran YANG, CFA, CPA Tel: +852 67419184...   \n",
      "91    |Nisha Solai Babusathiam                     ...   \n",
      "83   CURRICULUM VITAE PERSONAL DETAIL Name Gender N...   \n",
      "131  Adrian Hew Weng Choong Blk 304, #04-49, Canber...   \n",
      "7    CHAN LAI LIN 33F, Sentul Union Flat Jalan Unio...   \n",
      "101   Mr. Ashish Shah, Singapore Permanent Resident...   \n",
      "121  CHUNG YON JIE RESUME  01.08.2017  Ms. CHUNG YO...   \n",
      "107  Anshul Sthapak  911 Lor 1 Toa Payoh,   Oleande...   \n",
      "67   RESUME  Name  PERSONAL PARTICULARS : Nur Hawa ...   \n",
      "\n",
      "                            name nationality  \n",
      "90          Yim Lok Kwan, Isaac        China  \n",
      "124            Trevor Siran Yang       China  \n",
      "91       Nisha Solai Babusathiam       India  \n",
      "83           Nelson Lee Yong Sin    Malaysia  \n",
      "131      Adrian Hew Weng Choong     Malaysia  \n",
      "7                   Chan Lai Lin    Malaysia  \n",
      "101                  Ashish Shah       India  \n",
      "121                Chung Yon Jie    Malaysia  \n",
      "107               Anshul Sthapak       India  \n",
      "67   Nur Hawa Binti Abdul Rashid    Malaysia  \n",
      "[(90, 0.04693374375920235), (124, 0.04308524666991889), (91, 0.04046252529133095), (83, 0.038396761885749156), (131, 0.036378216222688185), (7, 0.031090458238752824), (101, 0.024412016258419347), (121, 0.023646213084968632), (107, 0.021930803388534093), (67, 0.021387743340596135)]\n"
     ]
    },
    {
     "data": {
      "image/png": "[encoded data removed]",
      "text/plain": [
       "<Figure size 720x720 with 1 Axes>"
      ]
     },
     "metadata": {
      "needs_background": "light"
     },
     "output_type": "display_data"
    },
    {
     "name": "stdout",
     "output_type": "stream",
     "text": [
      "/Users/Ketki/Documents/MS Theses/Reference Papers and Data/JD/jd_malaysia1.docx\n",
      "                                     res_name  \\\n",
      "39               Muhibbah_Abdul Rahman_FM.doc   \n",
      "131           HP_Adrian Hew_Acc Team Lead.pdf   \n",
      "17             Maples_Kasturi Majumdar_VP.pdf   \n",
      "134              Six Capital_MANJUNATH_FM.doc   \n",
      "7    iProperty_Chan Lai Lin_Sr Accountant.pdf   \n",
      "22      Steppe Capital_Radhika Shetty_FM.docx   \n",
      "116  Red Money_Faizah Hassan_Finance Head.pdf   \n",
      "99     Tour East_Vanessa Chiam_Finance AM.pdf   \n",
      "126            Oracle_Deepa Natarajan_FC.docx   \n",
      "26          HMGC_Smriti Gurung_Accountant.pdf   \n",
      "\n",
      "                                          res_contents  \\\n",
      "39                                                [...   \n",
      "131  Adrian Hew Weng Choong Blk 304, #04-49, Canber...   \n",
      "17   KASTURI MAJUMDAR Tel: + 65 82842308 Email: kas...   \n",
      "134                                MANJUNATH MURDES...   \n",
      "7    CHAN LAI LIN 33F, Sentul Union Flat Jalan Unio...   \n",
      "22   Radhika Shetty   Mobile: +65 81397929  Email: ...   \n",
      "116  Name: FAIZAH BINTI HASSAN Contact No : 012-221...   \n",
      "99   CURRICULUM VITAE PERSONAL DETAILS Full Name Re...   \n",
      "126  Deepa Natarajan Dutt    #15-13, The Dew, 32 Bu...   \n",
      "26   SMRITI GURUNG  Flat A, 13/F, SUI HING BUILDING...   \n",
      "\n",
      "                        name nationality  \n",
      "39      Abdulrahman Bin Omar    Malaysia  \n",
      "131  Adrian Hew Weng Choong     Malaysia  \n",
      "17          Kasturi Majumdar       India  \n",
      "134     Manjunath Murdeshwar       India  \n",
      "7               Chan Lai Lin    Malaysia  \n",
      "22            Radhika Shetty       India  \n",
      "116      Faizah Binti Hassan    Malaysia  \n",
      "99      Vanessa Chiam Shinyi    Malaysia  \n",
      "126     Deepa Natarajan Dutt       India  \n",
      "26             Smriti Gurung       India  \n",
      "[(39, 0.033430308343414455), (131, 0.031125784402202213), (17, 0.030993654257147344), (134, 0.028217542915579832), (7, 0.0279174385408374), (22, 0.02680012323607834), (116, 0.026130177280372875), (99, 0.024233255875205667), (126, 0.023804082813251786), (26, 0.02311082729747168)]\n"
     ]
    },
    {
     "data": {
      "text/plain": [
       "<Figure size 432x288 with 0 Axes>"
      ]
     },
     "metadata": {},
     "output_type": "display_data"
    },
    {
     "data": {
      "image/png": "[encoded data removed]",
      "text/plain": [
       "<Figure size 720x720 with 1 Axes>"
      ]
     },
     "metadata": {
      "needs_background": "light"
     },
     "output_type": "display_data"
    },
    {
     "name": "stdout",
     "output_type": "stream",
     "text": [
      "/Users/Ketki/Documents/MS Theses/Reference Papers and Data/JD/jd_india2.docx\n",
      "                                              res_name  \\\n",
      "20          PE Firm_Arun Kumar_Investment Advisory.pdf   \n",
      "130       Moody's_Huijuan Luo_Equity Reserarch AVP.pdf   \n",
      "23       Stenvall Skld_Cai Xi_IB Senior Associate.pdf   \n",
      "75                     S&P_Ellen Li_Credit Analyst.pdf   \n",
      "8    Aglaia IM_Subhashini Gurumurthy_Sr Investment ...   \n",
      "125                    EY_Helena He_Senior Auditor.pdf   \n",
      "128      TriOptimal_LiuYangdan_Valuation Analytics.pdf   \n",
      "94         Maybank AM_Varun Rao_Investment Analyst.doc   \n",
      "10                        KPMG_Biao Fu_Deal Intern.pdf   \n",
      "14   Probiz Capital_Fasiha Shaikh_BD Investment Dir...   \n",
      "\n",
      "                                          res_contents                  name  \\\n",
      "20   ARUN KUMAR Dubai / New York|+971 529 776968, +...            Arun Kumar   \n",
      "130  Huijuan Luo Mobile: 13811834894 E-mail: 138118...           Huijuan Luo   \n",
      "23   Curriculum Vitae - CAI Xi PERSONALIA Residency...                Cai Xi   \n",
      "75   Yijing (Ellen) Li  107 Fuzhou Road, Rm807 Shan...    Yijing (Ellen) Li    \n",
      "8    SUBHASHINI GURUMURTY Email : shubhaguru80@gmai...  Subhashini Gurumurty   \n",
      "125  HELENA HE, AICPA Cell: +852 6213 0822  Email: ...             Halena He   \n",
      "128  Liu Yangdan|CFA/FRM level 1 candidate Mobile: ...           Liu Yangdan   \n",
      "94    VARUN RAO                                    ...             Varun Rao   \n",
      "10   Biao FU +65 9433 9482| biao.fu@essec.edu | Sin...               Biao Fu   \n",
      "14   FASIHA SHAIKH +971 50 9658837 fasihashaikh@gma...         Fasiha Shaikh   \n",
      "\n",
      "    nationality  \n",
      "20        India  \n",
      "130       China  \n",
      "23        China  \n",
      "75        China  \n",
      "8         India  \n",
      "125       China  \n",
      "128       China  \n",
      "94        India  \n",
      "10        China  \n",
      "14        India  \n",
      "[(20, 0.05784921493782623), (130, 0.048082332358083554), (23, 0.04794259064043509), (75, 0.03291556485881864), (8, 0.03046437618364041), (125, 0.029311624652822797), (128, 0.029163018507782468), (94, 0.026077400102200544), (10, 0.024929979633739593), (14, 0.023440024510231992)]\n"
     ]
    },
    {
     "data": {
      "text/plain": [
       "<Figure size 432x288 with 0 Axes>"
      ]
     },
     "metadata": {},
     "output_type": "display_data"
    },
    {
     "data": {
      "image/png": "[encoded data removed]",
      "text/plain": [
       "<Figure size 720x720 with 1 Axes>"
      ]
     },
     "metadata": {
      "needs_background": "light"
     },
     "output_type": "display_data"
    },
    {
     "name": "stdout",
     "output_type": "stream",
     "text": [
      "/Users/Ketki/Documents/MS Theses/Reference Papers and Data/JD/jd_india.docx\n",
      "                                           res_name  \\\n",
      "56    Sunrise_Anusha Shashidhar_Pricing Finance.pdf   \n",
      "131                 HP_Adrian Hew_Acc Team Lead.pdf   \n",
      "134                    Six Capital_MANJUNATH_FM.doc   \n",
      "17                   Maples_Kasturi Majumdar_VP.pdf   \n",
      "79   Rasmala IB_Saba Tirpathur_Compliance Asst.docx   \n",
      "86         Ocean Equity_Angus Gu_Equity Analyst.pdf   \n",
      "81                  SMBC_Kerry Chin_Regional IA.pdf   \n",
      "116        Red Money_Faizah Hassan_Finance Head.pdf   \n",
      "23    Stenvall Skld_Cai Xi_IB Senior Associate.pdf   \n",
      "12        Raffles Group_Garima Gupta_Cosec Exec.doc   \n",
      "\n",
      "                                          res_contents  \\\n",
      "56   Resume Internal Audit Professional fa  Anusha ...   \n",
      "131  Adrian Hew Weng Choong Blk 304, #04-49, Canber...   \n",
      "134                                MANJUNATH MURDES...   \n",
      "17   KASTURI MAJUMDAR Tel: + 65 82842308 Email: kas...   \n",
      "79   Saba Ambareen  Tirpathur   Compliance & Invest...   \n",
      "86   Angus Gu Mobile: (852) 5222 5490, (86) 147 149...   \n",
      "81   RESUME KERRY CHIN CPA (Australia), CAMS, CA (S...   \n",
      "116  Name: FAIZAH BINTI HASSAN Contact No : 012-221...   \n",
      "23   Curriculum Vitae - CAI Xi PERSONALIA Residency...   \n",
      "12                                    GARIMA GUPTA ...   \n",
      "\n",
      "                        name nationality  \n",
      "56         Anusha Shashidhar       India  \n",
      "131  Adrian Hew Weng Choong     Malaysia  \n",
      "134     Manjunath Murdeshwar       India  \n",
      "17          Kasturi Majumdar       India  \n",
      "79   Saba Ambareen Tirpathur       India  \n",
      "86                  Angus Gu       China  \n",
      "81                Kerry Chin    Malaysia  \n",
      "116      Faizah Binti Hassan    Malaysia  \n",
      "23                    Cai Xi       China  \n",
      "12              Garima Gupta       India  \n",
      "[(56, 0.029105784670490173), (131, 0.027041599585509234), (134, 0.01809828841789995), (17, 0.017911999655418655), (79, 0.01568668937847465), (86, 0.01480439746870897), (81, 0.014596189575521116), (116, 0.014482334599618035), (23, 0.014394748357512336), (12, 0.013384001968589555)]\n"
     ]
    },
    {
     "data": {
      "text/plain": [
       "<Figure size 432x288 with 0 Axes>"
      ]
     },
     "metadata": {},
     "output_type": "display_data"
    },
    {
     "data": {
      "image/png": "[encoded data removed]",
      "text/plain": [
       "<Figure size 720x720 with 1 Axes>"
      ]
     },
     "metadata": {
      "needs_background": "light"
     },
     "output_type": "display_data"
    },
    {
     "name": "stdout",
     "output_type": "stream",
     "text": [
      "/Users/Ketki/Documents/MS Theses/Reference Papers and Data/JD/jd_china1.docx\n",
      "                                              res_name  \\\n",
      "92   Sunrise Brokers_Tim Huang_Equity Research Anal...   \n",
      "27            Maxpro_Andrew Lee_Investment Manager.pdf   \n",
      "93               Sequoia_Maggie Ma_Fund Accountant.pdf   \n",
      "132     JPM_Yashen Zhang_Equity Research Associate.pdf   \n",
      "90                       Equiom_Isaac Yim_Cosec AM.pdf   \n",
      "111          Wintop_Michael Cao_Investment Manager.pdf   \n",
      "134                       Six Capital_MANJUNATH_FM.doc   \n",
      "100                            TB_Christine Liu_AD.pdf   \n",
      "42      Morgan Stanley_Frankie Zhu_Equity Research.pdf   \n",
      "59           JK Capital_Jackie Xu_Research Analyst.pdf   \n",
      "\n",
      "                                          res_contents                  name  \\\n",
      "92   Tim Huang      +852 5646 1872      Thuang72@gm...             Tim huang   \n",
      "27   Yaju (Andrew) Lee +852-9600-9822   b91704040@g...    Yaju (Andrew) Lee    \n",
      "93   PERSONAL INFORMATION WORKING EXPERINECE  MA WA...    Ma Wai Yi (Maggie)   \n",
      "132  YASHEN (KEVIN) ZHANG, CFA CPA 9H, Tower 2, The...          Yashen Zhang   \n",
      "90   Name: Yim Lok Kwan, Isaac (ACIS, ACS) Mobile: ...  Yim Lok Kwan, Isaac    \n",
      "111  CAO Hangming (Michael) Personal Information Na...          CAO Hangming   \n",
      "134                                MANJUNATH MURDES...  Manjunath Murdeshwar   \n",
      "100  Christine Jing LIU +86 15600907657   christine...   Christine Jing LIU    \n",
      "42   ZHU Jia, Frankie 13G Tower 2 Sorrento, Hong Ko...      Zhu Jia, Frankie   \n",
      "59   XU, YINGYING (JACKIE) EMAIL: XU.Y.JACKIE@GMAIL...           Xu Yingying   \n",
      "\n",
      "    nationality  \n",
      "92        China  \n",
      "27        China  \n",
      "93        China  \n",
      "132       China  \n",
      "90        China  \n",
      "111       China  \n",
      "134       India  \n",
      "100       China  \n",
      "42        China  \n",
      "59        China  \n",
      "[(92, 0.07332312729556884), (27, 0.058995885705910224), (93, 0.04943872235361475), (132, 0.046825148686737095), (90, 0.03815267801370917), (111, 0.03794910645879926), (134, 0.0300264606130902), (100, 0.02859318672120456), (42, 0.02712621033793511), (59, 0.026899171110221408)]\n"
     ]
    },
    {
     "data": {
      "text/plain": [
       "<Figure size 432x288 with 0 Axes>"
      ]
     },
     "metadata": {},
     "output_type": "display_data"
    },
    {
     "data": {
      "image/png": "[encoded data removed]",
      "text/plain": [
       "<Figure size 720x720 with 1 Axes>"
      ]
     },
     "metadata": {
      "needs_background": "light"
     },
     "output_type": "display_data"
    },
    {
     "name": "stdout",
     "output_type": "stream",
     "text": [
      "/Users/Ketki/Documents/MS Theses/Reference Papers and Data/JD/jd_india1.docx\n",
      "                                            res_name  \\\n",
      "56     Sunrise_Anusha Shashidhar_Pricing Finance.pdf   \n",
      "123  Zhenghe Capital_Rainbow Chen_Office Manager.pdf   \n",
      "108          Godrej_Dhiraj Somani_Senior Manager.pdf   \n",
      "131                  HP_Adrian Hew_Acc Team Lead.pdf   \n",
      "52                SS&C_Amreeta Gujraty_AVP_Hedge.pdf   \n",
      "91             Mohn_Nisha Babusathiam_Cosec Lead.doc   \n",
      "121                 JTB_Chung Yon Jie_Accountant.pdf   \n",
      "94       Maybank AM_Varun Rao_Investment Analyst.doc   \n",
      "90                     Equiom_Isaac Yim_Cosec AM.pdf   \n",
      "39                      Muhibbah_Abdul Rahman_FM.doc   \n",
      "\n",
      "                                          res_contents  \\\n",
      "56   Resume Internal Audit Professional fa  Anusha ...   \n",
      "123  Rainbow Chen  Email address: ml15@163.com Cont...   \n",
      "108  Dhiraj Somani  Cell: +65 9126 9996, +91 90043 ...   \n",
      "131  Adrian Hew Weng Choong Blk 304, #04-49, Canber...   \n",
      "52   Amreeta Gujraty, CA 09-10 Heritage View, 8 Dov...   \n",
      "91    |Nisha Solai Babusathiam                     ...   \n",
      "121  CHUNG YON JIE RESUME  01.08.2017  Ms. CHUNG YO...   \n",
      "94    VARUN RAO                                    ...   \n",
      "90   Name: Yim Lok Kwan, Isaac (ACIS, ACS) Mobile: ...   \n",
      "39                                                [...   \n",
      "\n",
      "                        name nationality  \n",
      "56         Anusha Shashidhar       India  \n",
      "123             Rainbow chen       China  \n",
      "108            Dhiraj Somani       India  \n",
      "131  Adrian Hew Weng Choong     Malaysia  \n",
      "52           Amreeta Gujraty       India  \n",
      "91   Nisha Solai Babusathiam       India  \n",
      "121            Chung Yon Jie    Malaysia  \n",
      "94                 Varun Rao       India  \n",
      "90      Yim Lok Kwan, Isaac        China  \n",
      "39      Abdulrahman Bin Omar    Malaysia  \n",
      "[(56, 0.021729273811107418), (123, 0.02006845059221988), (108, 0.019902567351346663), (131, 0.018372320685702662), (52, 0.018200942455697828), (91, 0.017840868126136514), (121, 0.016459211882958544), (94, 0.01588482675765855), (90, 0.01579046362378866), (39, 0.015581263995759197)]\n"
     ]
    },
    {
     "data": {
      "text/plain": [
       "<Figure size 432x288 with 0 Axes>"
      ]
     },
     "metadata": {},
     "output_type": "display_data"
    },
    {
     "data": {
      "image/png": "[encoded data removed]",
      "text/plain": [
       "<Figure size 720x720 with 1 Axes>"
      ]
     },
     "metadata": {
      "needs_background": "light"
     },
     "output_type": "display_data"
    },
    {
     "name": "stdout",
     "output_type": "stream",
     "text": [
      "/Users/Ketki/Documents/MS Theses/Reference Papers and Data/JD/jd_china.docx\n",
      "                                         res_name  \\\n",
      "124                        RDM_Trevor Yang_FM.pdf   \n",
      "28       Guotai_Esabella Zhao_Equity Research.pdf   \n",
      "130  Moody's_Huijuan Luo_Equity Reserarch AVP.pdf   \n",
      "86       Ocean Equity_Angus Gu_Equity Analyst.pdf   \n",
      "72   Goldman Sachs_Feng Luo_Senior+Associate.docx   \n",
      "71    Total Care_Yvette Jiang_Accounts Intern.pdf   \n",
      "3               STI_Liz Wu_Investment Analyst.pdf   \n",
      "4           Morningstar_Wenyin Xu_Insti Sales.pdf   \n",
      "131               HP_Adrian Hew_Acc Team Lead.pdf   \n",
      "125               EY_Helena He_Senior Auditor.pdf   \n",
      "\n",
      "                                          res_contents  \\\n",
      "124  Trevor Siran YANG, CFA, CPA Tel: +852 67419184...   \n",
      "28   Shuman Zhao (Esabella) +86 13632576879 | esabe...   \n",
      "130  Huijuan Luo Mobile: 13811834894 E-mail: 138118...   \n",
      "86   Angus Gu Mobile: (852) 5222 5490, (86) 147 149...   \n",
      "72   Feng Luo  136 Joo Chiat Terrace, Singapore 427...   \n",
      "71   Jiang Yifu, Yvette yifu.jiang.2016@mm.smu.edu....   \n",
      "3    Liz Wu lizwudi@gmail.com Tel: +852-56154975 Cu...   \n",
      "4    XU Wenyin (Vincent) Date of Birth  15 July 198...   \n",
      "131  Adrian Hew Weng Choong Blk 304, #04-49, Canber...   \n",
      "125  HELENA HE, AICPA Cell: +852 6213 0822  Email: ...   \n",
      "\n",
      "                        name nationality  \n",
      "124        Trevor Siran Yang       China  \n",
      "28               Shuman Zhao       China  \n",
      "130              Huijuan Luo       China  \n",
      "86                  Angus Gu       China  \n",
      "72                  Feng Luo       China  \n",
      "71        Jiang Yifu, Yvette       China  \n",
      "3                     Liz Wu       China  \n",
      "4       XU Wenyin (Vincent)        China  \n",
      "131  Adrian Hew Weng Choong     Malaysia  \n",
      "125                Halena He       China  \n",
      "[(124, 0.04165845616606369), (28, 0.04068451058392924), (130, 0.0390565677899023), (86, 0.03611533141814788), (72, 0.03463960119654757), (71, 0.03424790166345531), (3, 0.033255909453150274), (4, 0.030257239088086425), (131, 0.02979687414260266), (125, 0.02973408602052675)]\n"
     ]
    },
    {
     "data": {
      "text/plain": [
       "<Figure size 432x288 with 0 Axes>"
      ]
     },
     "metadata": {},
     "output_type": "display_data"
    },
    {
     "data": {
      "image/png": "[encoded data removed]",
      "text/plain": [
       "<Figure size 720x720 with 1 Axes>"
      ]
     },
     "metadata": {
      "needs_background": "light"
     },
     "output_type": "display_data"
    },
    {
     "name": "stdout",
     "output_type": "stream",
     "text": [
      "{'malaysia': defaultdict(<class 'int'>, {'total': 2, 'China': 2, 'India': 8, 'Malaysia': 10}), 'india': defaultdict(<class 'int'>, {'total': 3, 'India': 14, 'China': 10, 'Malaysia': 6}), 'china': defaultdict(<class 'int'>, {'total': 2, 'China': 18, 'India': 1, 'Malaysia': 1})}\n",
      "{'malaysia': {'India': 4.0, 'Malaysia': 5.0, 'China': 1.0}, 'india': {'India': 4.666666666666667, 'Malaysia': 2.0, 'China': 3.3333333333333335}, 'china': {'India': 0.5, 'Malaysia': 0.5, 'China': 9.0}}\n"
     ]
    },
    {
     "data": {
      "text/plain": [
       "<Figure size 432x288 with 0 Axes>"
      ]
     },
     "metadata": {},
     "output_type": "display_data"
    }
   ],
   "source": [
    "if __name__ == '__main__':\n",
    "    \n",
    "    for file in os.listdir(jd_path):\n",
    "        if file == '.DS_Store':\n",
    "            continue\n",
    "            \n",
    "        filename = jd_path + file\n",
    "        print(filename)\n",
    "        processData(resume_path, filename, file)\n",
    "    print(distributionMatrix)\n",
    "    \n",
    "    countryList = ['India', 'Malaysia', 'China']\n",
    "    \n",
    "    avgDistributionMatrix = {}\n",
    "    for row in distributionMatrix.keys():\n",
    "        avgDistributionMatrix[row] = {}\n",
    "        totalJDCount = distributionMatrix[row]['total']\n",
    "        for country in countryList:\n",
    "            avgDistributionMatrix[row][country] = distributionMatrix[row][country] / totalJDCount\n",
    "         \n",
    "    print(avgDistributionMatrix)"
   ]
  },
  {
   "cell_type": "code",
   "execution_count": 18,
   "metadata": {},
   "outputs": [],
   "source": [
    "concatDf.to_csv('/Users/Ketki/Documents/MS Theses/Reference Papers and Data/sampleP.csv')"
   ]
  },
  {
   "cell_type": "code",
   "execution_count": 30,
   "metadata": {},
   "outputs": [],
   "source": [
    "cmin = concatDf['China'].min(axis=0)"
   ]
  },
  {
   "cell_type": "code",
   "execution_count": 32,
   "metadata": {},
   "outputs": [],
   "source": [
    "imin = concatDf['India'].min(axis=0)\n",
    "mmin = concatDf['Malaysia'].min(axis=0)"
   ]
  },
  {
   "cell_type": "code",
   "execution_count": 33,
   "metadata": {},
   "outputs": [],
   "source": [
    "concatDf['China'] = concatDf['China'].fillna(cmin)\n",
    "concatDf['India'] = concatDf['India'].fillna(imin)\n",
    "concatDf['Malaysia'] = concatDf['Malaysia'].fillna(mmin)"
   ]
  },
  {
   "cell_type": "code",
   "execution_count": 34,
   "metadata": {},
   "outputs": [
    {
     "data": {
      "text/html": [
       "<div>\n",
       "<style scoped>\n",
       "    .dataframe tbody tr th:only-of-type {\n",
       "        vertical-align: middle;\n",
       "    }\n",
       "\n",
       "    .dataframe tbody tr th {\n",
       "        vertical-align: top;\n",
       "    }\n",
       "\n",
       "    .dataframe thead th {\n",
       "        text-align: right;\n",
       "    }\n",
       "</style>\n",
       "<table border=\"1\" class=\"dataframe\">\n",
       "  <thead>\n",
       "    <tr style=\"text-align: right;\">\n",
       "      <th></th>\n",
       "      <th>China</th>\n",
       "      <th>India</th>\n",
       "      <th>Malaysia</th>\n",
       "    </tr>\n",
       "  </thead>\n",
       "  <tbody>\n",
       "    <tr>\n",
       "      <td>aafm</td>\n",
       "      <td>0.022222</td>\n",
       "      <td>0.022222</td>\n",
       "      <td>0.022222</td>\n",
       "    </tr>\n",
       "    <tr>\n",
       "      <td>aaron</td>\n",
       "      <td>0.022222</td>\n",
       "      <td>0.022222</td>\n",
       "      <td>0.022222</td>\n",
       "    </tr>\n",
       "    <tr>\n",
       "      <td>abac</td>\n",
       "      <td>0.022222</td>\n",
       "      <td>0.022222</td>\n",
       "      <td>0.022222</td>\n",
       "    </tr>\n",
       "    <tr>\n",
       "      <td>abdul</td>\n",
       "      <td>0.022222</td>\n",
       "      <td>0.022222</td>\n",
       "      <td>0.311111</td>\n",
       "    </tr>\n",
       "    <tr>\n",
       "      <td>abilities</td>\n",
       "      <td>0.022222</td>\n",
       "      <td>0.111111</td>\n",
       "      <td>0.266667</td>\n",
       "    </tr>\n",
       "    <tr>\n",
       "      <td>...</td>\n",
       "      <td>...</td>\n",
       "      <td>...</td>\n",
       "      <td>...</td>\n",
       "    </tr>\n",
       "    <tr>\n",
       "      <td>zuellig</td>\n",
       "      <td>0.022222</td>\n",
       "      <td>0.022222</td>\n",
       "      <td>0.022222</td>\n",
       "    </tr>\n",
       "    <tr>\n",
       "      <td>zuhal</td>\n",
       "      <td>0.022222</td>\n",
       "      <td>0.022222</td>\n",
       "      <td>0.022222</td>\n",
       "    </tr>\n",
       "    <tr>\n",
       "      <td>zulkeeflee</td>\n",
       "      <td>0.022222</td>\n",
       "      <td>0.022222</td>\n",
       "      <td>0.022222</td>\n",
       "    </tr>\n",
       "    <tr>\n",
       "      <td>zumba</td>\n",
       "      <td>0.022222</td>\n",
       "      <td>0.022222</td>\n",
       "      <td>0.022222</td>\n",
       "    </tr>\n",
       "    <tr>\n",
       "      <td>zurich</td>\n",
       "      <td>0.022222</td>\n",
       "      <td>0.022222</td>\n",
       "      <td>0.044444</td>\n",
       "    </tr>\n",
       "  </tbody>\n",
       "</table>\n",
       "<p>7430 rows × 3 columns</p>\n",
       "</div>"
      ],
      "text/plain": [
       "               China     India  Malaysia\n",
       "aafm        0.022222  0.022222  0.022222\n",
       "aaron       0.022222  0.022222  0.022222\n",
       "abac        0.022222  0.022222  0.022222\n",
       "abdul       0.022222  0.022222  0.311111\n",
       "abilities   0.022222  0.111111  0.266667\n",
       "...              ...       ...       ...\n",
       "zuellig     0.022222  0.022222  0.022222\n",
       "zuhal       0.022222  0.022222  0.022222\n",
       "zulkeeflee  0.022222  0.022222  0.022222\n",
       "zumba       0.022222  0.022222  0.022222\n",
       "zurich      0.022222  0.022222  0.044444\n",
       "\n",
       "[7430 rows x 3 columns]"
      ]
     },
     "execution_count": 34,
     "metadata": {},
     "output_type": "execute_result"
    }
   ],
   "source": [
    "concatDf"
   ]
  },
  {
   "cell_type": "code",
   "execution_count": 36,
   "metadata": {},
   "outputs": [
    {
     "data": {
      "text/plain": [
       "aafm          1.000000\n",
       "aaron         1.000000\n",
       "abac          1.000000\n",
       "abdul         0.071429\n",
       "abilities     0.083333\n",
       "                ...   \n",
       "zuellig       1.000000\n",
       "zuhal         1.000000\n",
       "zulkeeflee    1.000000\n",
       "zumba         1.000000\n",
       "zurich        0.500000\n",
       "Length: 7430, dtype: float64"
      ]
     },
     "execution_count": 36,
     "metadata": {},
     "output_type": "execute_result"
    }
   ],
   "source": [
    "r = (concatDf.min(axis=1)/concatDf.max(axis=1))\n",
    "r"
   ]
  },
  {
   "cell_type": "code",
   "execution_count": 15,
   "metadata": {},
   "outputs": [],
   "source": [
    "DF = concatDf.fillna(0.001)"
   ]
  },
  {
   "cell_type": "code",
   "execution_count": 16,
   "metadata": {},
   "outputs": [
    {
     "data": {
      "text/plain": [
       "aafm          0.045000\n",
       "aaron         1.000000\n",
       "abac          0.045000\n",
       "abdul         0.003214\n",
       "abilities     0.003750\n",
       "                ...   \n",
       "zuellig       0.045000\n",
       "zuhal         0.045000\n",
       "zulkeeflee    0.045000\n",
       "zumba         1.000000\n",
       "zurich        0.022500\n",
       "Length: 7430, dtype: float64"
      ]
     },
     "execution_count": 16,
     "metadata": {},
     "output_type": "execute_result"
    }
   ],
   "source": [
    "r = (DF.min(axis=1)/DF.max(axis=1))\n",
    "r"
   ]
  },
  {
   "cell_type": "code",
   "execution_count": 18,
   "metadata": {},
   "outputs": [
    {
     "data": {
      "text/html": [
       "<div>\n",
       "<style scoped>\n",
       "    .dataframe tbody tr th:only-of-type {\n",
       "        vertical-align: middle;\n",
       "    }\n",
       "\n",
       "    .dataframe tbody tr th {\n",
       "        vertical-align: top;\n",
       "    }\n",
       "\n",
       "    .dataframe thead th {\n",
       "        text-align: right;\n",
       "    }\n",
       "</style>\n",
       "<table border=\"1\" class=\"dataframe\">\n",
       "  <thead>\n",
       "    <tr style=\"text-align: right;\">\n",
       "      <th></th>\n",
       "      <th>0</th>\n",
       "    </tr>\n",
       "  </thead>\n",
       "  <tbody>\n",
       "    <tr>\n",
       "      <td>aafm</td>\n",
       "      <td>0.045000</td>\n",
       "    </tr>\n",
       "    <tr>\n",
       "      <td>aaron</td>\n",
       "      <td>1.000000</td>\n",
       "    </tr>\n",
       "    <tr>\n",
       "      <td>abac</td>\n",
       "      <td>0.045000</td>\n",
       "    </tr>\n",
       "    <tr>\n",
       "      <td>abdul</td>\n",
       "      <td>0.003214</td>\n",
       "    </tr>\n",
       "    <tr>\n",
       "      <td>abilities</td>\n",
       "      <td>0.003750</td>\n",
       "    </tr>\n",
       "    <tr>\n",
       "      <td>...</td>\n",
       "      <td>...</td>\n",
       "    </tr>\n",
       "    <tr>\n",
       "      <td>zuellig</td>\n",
       "      <td>0.045000</td>\n",
       "    </tr>\n",
       "    <tr>\n",
       "      <td>zuhal</td>\n",
       "      <td>0.045000</td>\n",
       "    </tr>\n",
       "    <tr>\n",
       "      <td>zulkeeflee</td>\n",
       "      <td>0.045000</td>\n",
       "    </tr>\n",
       "    <tr>\n",
       "      <td>zumba</td>\n",
       "      <td>1.000000</td>\n",
       "    </tr>\n",
       "    <tr>\n",
       "      <td>zurich</td>\n",
       "      <td>0.022500</td>\n",
       "    </tr>\n",
       "  </tbody>\n",
       "</table>\n",
       "<p>7430 rows × 1 columns</p>\n",
       "</div>"
      ],
      "text/plain": [
       "                   0\n",
       "aafm        0.045000\n",
       "aaron       1.000000\n",
       "abac        0.045000\n",
       "abdul       0.003214\n",
       "abilities   0.003750\n",
       "...              ...\n",
       "zuellig     0.045000\n",
       "zuhal       0.045000\n",
       "zulkeeflee  0.045000\n",
       "zumba       1.000000\n",
       "zurich      0.022500\n",
       "\n",
       "[7430 rows x 1 columns]"
      ]
     },
     "execution_count": 18,
     "metadata": {},
     "output_type": "execute_result"
    }
   ],
   "source": [
    "ratioP = pd.DataFrame(r)\n",
    "ratioP"
   ]
  },
  {
   "cell_type": "code",
   "execution_count": 20,
   "metadata": {},
   "outputs": [
    {
     "data": {
      "text/html": [
       "<div>\n",
       "<style scoped>\n",
       "    .dataframe tbody tr th:only-of-type {\n",
       "        vertical-align: middle;\n",
       "    }\n",
       "\n",
       "    .dataframe tbody tr th {\n",
       "        vertical-align: top;\n",
       "    }\n",
       "\n",
       "    .dataframe thead th {\n",
       "        text-align: right;\n",
       "    }\n",
       "</style>\n",
       "<table border=\"1\" class=\"dataframe\">\n",
       "  <thead>\n",
       "    <tr style=\"text-align: right;\">\n",
       "      <th></th>\n",
       "      <th>index</th>\n",
       "      <th>0</th>\n",
       "    </tr>\n",
       "  </thead>\n",
       "  <tbody>\n",
       "    <tr>\n",
       "      <td>0</td>\n",
       "      <td>aafm</td>\n",
       "      <td>0.045000</td>\n",
       "    </tr>\n",
       "    <tr>\n",
       "      <td>1</td>\n",
       "      <td>aaron</td>\n",
       "      <td>1.000000</td>\n",
       "    </tr>\n",
       "    <tr>\n",
       "      <td>2</td>\n",
       "      <td>abac</td>\n",
       "      <td>0.045000</td>\n",
       "    </tr>\n",
       "    <tr>\n",
       "      <td>3</td>\n",
       "      <td>abdul</td>\n",
       "      <td>0.003214</td>\n",
       "    </tr>\n",
       "    <tr>\n",
       "      <td>4</td>\n",
       "      <td>abilities</td>\n",
       "      <td>0.003750</td>\n",
       "    </tr>\n",
       "    <tr>\n",
       "      <td>...</td>\n",
       "      <td>...</td>\n",
       "      <td>...</td>\n",
       "    </tr>\n",
       "    <tr>\n",
       "      <td>7425</td>\n",
       "      <td>zuellig</td>\n",
       "      <td>0.045000</td>\n",
       "    </tr>\n",
       "    <tr>\n",
       "      <td>7426</td>\n",
       "      <td>zuhal</td>\n",
       "      <td>0.045000</td>\n",
       "    </tr>\n",
       "    <tr>\n",
       "      <td>7427</td>\n",
       "      <td>zulkeeflee</td>\n",
       "      <td>0.045000</td>\n",
       "    </tr>\n",
       "    <tr>\n",
       "      <td>7428</td>\n",
       "      <td>zumba</td>\n",
       "      <td>1.000000</td>\n",
       "    </tr>\n",
       "    <tr>\n",
       "      <td>7429</td>\n",
       "      <td>zurich</td>\n",
       "      <td>0.022500</td>\n",
       "    </tr>\n",
       "  </tbody>\n",
       "</table>\n",
       "<p>7430 rows × 2 columns</p>\n",
       "</div>"
      ],
      "text/plain": [
       "           index         0\n",
       "0           aafm  0.045000\n",
       "1          aaron  1.000000\n",
       "2           abac  0.045000\n",
       "3          abdul  0.003214\n",
       "4      abilities  0.003750\n",
       "...          ...       ...\n",
       "7425     zuellig  0.045000\n",
       "7426       zuhal  0.045000\n",
       "7427  zulkeeflee  0.045000\n",
       "7428       zumba  1.000000\n",
       "7429      zurich  0.022500\n",
       "\n",
       "[7430 rows x 2 columns]"
      ]
     },
     "execution_count": 20,
     "metadata": {},
     "output_type": "execute_result"
    }
   ],
   "source": [
    "ratioP = ratioP.reset_index()\n",
    "ratioP"
   ]
  },
  {
   "cell_type": "code",
   "execution_count": 21,
   "metadata": {},
   "outputs": [
    {
     "data": {
      "text/html": [
       "<div>\n",
       "<style scoped>\n",
       "    .dataframe tbody tr th:only-of-type {\n",
       "        vertical-align: middle;\n",
       "    }\n",
       "\n",
       "    .dataframe tbody tr th {\n",
       "        vertical-align: top;\n",
       "    }\n",
       "\n",
       "    .dataframe thead th {\n",
       "        text-align: right;\n",
       "    }\n",
       "</style>\n",
       "<table border=\"1\" class=\"dataframe\">\n",
       "  <thead>\n",
       "    <tr style=\"text-align: right;\">\n",
       "      <th></th>\n",
       "      <th>words</th>\n",
       "      <th>pRatio</th>\n",
       "    </tr>\n",
       "  </thead>\n",
       "  <tbody>\n",
       "    <tr>\n",
       "      <td>0</td>\n",
       "      <td>aafm</td>\n",
       "      <td>0.045000</td>\n",
       "    </tr>\n",
       "    <tr>\n",
       "      <td>1</td>\n",
       "      <td>aaron</td>\n",
       "      <td>1.000000</td>\n",
       "    </tr>\n",
       "    <tr>\n",
       "      <td>2</td>\n",
       "      <td>abac</td>\n",
       "      <td>0.045000</td>\n",
       "    </tr>\n",
       "    <tr>\n",
       "      <td>3</td>\n",
       "      <td>abdul</td>\n",
       "      <td>0.003214</td>\n",
       "    </tr>\n",
       "    <tr>\n",
       "      <td>4</td>\n",
       "      <td>abilities</td>\n",
       "      <td>0.003750</td>\n",
       "    </tr>\n",
       "    <tr>\n",
       "      <td>...</td>\n",
       "      <td>...</td>\n",
       "      <td>...</td>\n",
       "    </tr>\n",
       "    <tr>\n",
       "      <td>7425</td>\n",
       "      <td>zuellig</td>\n",
       "      <td>0.045000</td>\n",
       "    </tr>\n",
       "    <tr>\n",
       "      <td>7426</td>\n",
       "      <td>zuhal</td>\n",
       "      <td>0.045000</td>\n",
       "    </tr>\n",
       "    <tr>\n",
       "      <td>7427</td>\n",
       "      <td>zulkeeflee</td>\n",
       "      <td>0.045000</td>\n",
       "    </tr>\n",
       "    <tr>\n",
       "      <td>7428</td>\n",
       "      <td>zumba</td>\n",
       "      <td>1.000000</td>\n",
       "    </tr>\n",
       "    <tr>\n",
       "      <td>7429</td>\n",
       "      <td>zurich</td>\n",
       "      <td>0.022500</td>\n",
       "    </tr>\n",
       "  </tbody>\n",
       "</table>\n",
       "<p>7430 rows × 2 columns</p>\n",
       "</div>"
      ],
      "text/plain": [
       "           words    pRatio\n",
       "0           aafm  0.045000\n",
       "1          aaron  1.000000\n",
       "2           abac  0.045000\n",
       "3          abdul  0.003214\n",
       "4      abilities  0.003750\n",
       "...          ...       ...\n",
       "7425     zuellig  0.045000\n",
       "7426       zuhal  0.045000\n",
       "7427  zulkeeflee  0.045000\n",
       "7428       zumba  1.000000\n",
       "7429      zurich  0.022500\n",
       "\n",
       "[7430 rows x 2 columns]"
      ]
     },
     "execution_count": 21,
     "metadata": {},
     "output_type": "execute_result"
    }
   ],
   "source": [
    "ratioP = ratioP.rename(columns={'index':'words',0:'pRatio'})\n",
    "ratioP"
   ]
  },
  {
   "cell_type": "code",
   "execution_count": null,
   "metadata": {},
   "outputs": [],
   "source": []
  }
 ],
 "metadata": {
  "kernelspec": {
   "display_name": "Python 3",
   "language": "python",
   "name": "python3"
  },
  "language_info": {
   "codemirror_mode": {
    "name": "ipython",
    "version": 3
   },
   "file_extension": ".py",
   "mimetype": "text/x-python",
   "name": "python",
   "nbconvert_exporter": "python",
   "pygments_lexer": "ipython3",
   "version": "3.7.4"
  }
 },
 "nbformat": 4,
 "nbformat_minor": 2
}
